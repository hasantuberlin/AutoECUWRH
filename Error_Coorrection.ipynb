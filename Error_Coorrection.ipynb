{
 "cells": [
  {
   "cell_type": "markdown",
   "metadata": {},
   "source": [
    "# Automatic Error Correction Using the Wikipedia Page Revision History"
   ]
  },
  {
   "cell_type": "code",
   "execution_count": 1,
   "metadata": {},
   "outputs": [],
   "source": [
    "# run install.py to install all packages\n",
    "# !python install.py"
   ]
  },
  {
   "cell_type": "code",
   "execution_count": 2,
   "metadata": {},
   "outputs": [
    {
     "name": "stdout",
     "output_type": "stream",
     "text": [
      "experiment_data_type_tgeneral is running now\n",
      "test data path exits!\n"
     ]
    },
    {
     "name": "stderr",
     "output_type": "stream",
     "text": [
      "Read 0M words\n",
      "Number of words:  946\n",
      "Number of labels: 45\n",
      "Progress: 100.0% words/sec/thread: 2937446 lr:  0.000000 avg.loss:  0.788248 ETA:   0h 0m 0s\n",
      "Read 0M words\n",
      "Number of words:  927\n",
      "Number of labels: 45\n",
      "Progress: 100.0% words/sec/thread: 2814130 lr:  0.000000 avg.loss:  0.775298 ETA:   0h 0m 0s2815435 lr: -0.000000 avg.loss:  0.775298 ETA:   0h 0m 0s\n",
      "Read 0M words\n",
      "Number of words:  896\n",
      "Number of labels: 45\n",
      "Progress: 100.0% words/sec/thread: 2751979 lr:  0.000000 avg.loss:  0.772218 ETA:   0h 0m 0s\n",
      "Read 0M words\n",
      "Number of words:  995\n",
      "Number of labels: 1\n",
      "Progress: 100.0% words/sec/thread: 3054443 lr:  0.000000 avg.loss:  0.000000 ETA:   0h 0m 0s lr: -0.000009 avg.loss:  0.000000 ETA:   0h 0m 0s\n",
      "Read 0M words\n",
      "Number of words:  995\n",
      "Number of labels: 1\n",
      "Progress: 100.0% words/sec/thread: 3054861 lr:  0.000000 avg.loss:  0.000000 ETA:   0h 0m 0s\n",
      "Read 0M words\n",
      "Number of words:  956\n",
      "Number of labels: 39\n",
      "Progress: 100.0% words/sec/thread: 2952355 lr:  0.000000 avg.loss:  0.611960 ETA:   0h 0m 0s\n",
      "Read 0M words\n",
      "Number of words:  991\n",
      "Number of labels: 2\n",
      "Progress: 100.0% words/sec/thread: 2979309 lr:  0.000000 avg.loss:  0.019352 ETA:   0h 0m 0s 0.019352 ETA:   0h 0m 0s\n",
      "Read 0M words\n",
      "Number of words:  949\n",
      "Number of labels: 44\n",
      "Progress: 100.0% words/sec/thread: 2960683 lr:  0.000000 avg.loss:  0.739142 ETA:   0h 0m 0s\n",
      "Read 0M words\n",
      "Number of words:  967\n",
      "Number of labels: 33\n",
      "Progress: 100.0% words/sec/thread: 2903849 lr:  0.000000 avg.loss:  0.643369 ETA:   0h 0m 0s\n",
      "Read 0M words\n",
      "Number of words:  942\n",
      "Number of labels: 45\n",
      "Progress: 100.0% words/sec/thread: 2956020 lr:  0.000000 avg.loss:  0.702361 ETA:   0h 0m 0s\n",
      "Read 0M words\n",
      "Number of words:  989\n",
      "Number of labels: 1\n",
      "Progress: 100.0% words/sec/thread: 2824079 lr:  0.000000 avg.loss:  0.000000 ETA:   0h 0m 0s\n",
      "Read 0M words\n",
      "Number of words:  976\n",
      "Number of labels: 8\n",
      "Progress: 100.0% words/sec/thread: 2795587 lr:  0.000000 avg.loss:  0.313149 ETA:   0h 0m 0s\n",
      "Read 0M words\n",
      "Number of words:  986\n",
      "Number of labels: 2\n",
      "Progress: 100.0% words/sec/thread: 2972238 lr:  0.000000 avg.loss:  0.027710 ETA:   0h 0m 0s\n",
      "Read 0M words\n",
      "Number of words:  984\n",
      "Number of labels: 5\n",
      "Progress: 100.0% words/sec/thread: 2882815 lr:  0.000000 avg.loss:  0.109313 ETA:   0h 0m 0s\n",
      "Read 0M words\n",
      "Number of words:  962\n",
      "Number of labels: 28\n",
      "Progress: 100.0% words/sec/thread: 2972237 lr:  0.000000 avg.loss:  0.503882 ETA:   0h 0m 0s  0h 0m 0s\n",
      "Read 0M words\n",
      "Number of words:  835\n",
      "Number of labels: 28\n",
      "Progress: 100.0% words/sec/thread: 2138431 lr:  0.000000 avg.loss:  0.682700 ETA:   0h 0m 0s\n",
      "Read 0M words\n",
      "Number of words:  939\n",
      "Number of labels: 56\n",
      "Progress: 100.0% words/sec/thread: 2986486 lr:  0.000000 avg.loss:  2.196378 ETA:   0h 0m 0s-0.000010 avg.loss:  2.196378 ETA:   0h 0m 0s\n"
     ]
    },
    {
     "name": "stdout",
     "output_type": "stream",
     "text": [
      "Error correction exception:  tuple index out of range\n"
     ]
    },
    {
     "name": "stderr",
     "output_type": "stream",
     "text": [
      "Read 0M words\n",
      "Number of words:  695\n",
      "Number of labels: 304\n",
      "Progress: 100.0% words/sec/thread: 2867683 lr:  0.000000 avg.loss:  3.927982 ETA:   0h 0m 0s\n"
     ]
    },
    {
     "name": "stdout",
     "output_type": "stream",
     "text": [
      "Error correction exception:  tuple index out of range\n",
      "Error correction exception:  tuple index out of range\n",
      "Error correction exception:  tuple index out of range\n",
      "Error correction exception:  tuple index out of range\n",
      "Error correction exception:  tuple index out of range\n",
      "Error correction exception:  tuple index out of range\n",
      "Error correction exception:  tuple index out of range\n",
      "Error correction exception:  tuple index out of range\n",
      "Error correction exception:  tuple index out of range\n",
      "Error correction exception:  tuple index out of range\n"
     ]
    },
    {
     "name": "stderr",
     "output_type": "stream",
     "text": [
      "Read 0M words\n",
      "Number of words:  938\n",
      "Number of labels: 48\n",
      "Progress: 100.0% words/sec/thread: 2973777 lr:  0.000000 avg.loss:  0.592703 ETA:   0h 0m 0s\n"
     ]
    },
    {
     "name": "stdout",
     "output_type": "stream",
     "text": [
      "Performance on hospital:\n",
      "Precision = 1.00\n",
      "Recall = 0.44\n",
      "F1 = 0.61\n"
     ]
    },
    {
     "data": {
      "text/plain": [
       "<correction.Corrections at 0x7f9db8d85f90>"
      ]
     },
     "execution_count": 2,
     "metadata": {},
     "output_type": "execute_result"
    }
   ],
   "source": [
    "from correction import *\n",
    "Corrections(\"hospital\") # here input the dataset name # Datasets are in the dataset directory"
   ]
  }
 ],
 "metadata": {
  "kernelspec": {
   "display_name": "Python 3",
   "language": "python",
   "name": "python3"
  },
  "language_info": {
   "codemirror_mode": {
    "name": "ipython",
    "version": 3
   },
   "file_extension": ".py",
   "mimetype": "text/x-python",
   "name": "python",
   "nbconvert_exporter": "python",
   "pygments_lexer": "ipython3",
   "version": "3.7.7"
  }
 },
 "nbformat": 4,
 "nbformat_minor": 2
}
